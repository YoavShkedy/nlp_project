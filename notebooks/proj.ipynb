{
 "cells": [
  {
   "cell_type": "code",
   "execution_count": 7,
   "metadata": {},
   "outputs": [
    {
     "name": "stderr",
     "output_type": "stream",
     "text": [
      "/var/folders/p8/sq7kwdmj7c74xqn10jk560xh0000gn/T/ipykernel_74087/3641352511.py:7: DeprecationWarning: Importing display from IPython.core.display is deprecated since IPython 7.14, please import from IPython display\n",
      "  from IPython.core.display import display, HTML\n"
     ]
    }
   ],
   "source": [
    "import os\n",
    "import json\n",
    "import openai\n",
    "\n",
    "import pandas as pd\n",
    "\n",
    "from IPython.core.display import display, HTML"
   ]
  },
  {
   "cell_type": "code",
   "execution_count": 8,
   "metadata": {},
   "outputs": [],
   "source": [
    "def get_response(system_prompt, prompt):\n",
    "\n",
    "    response = openai.ChatCompletion.create(\n",
    "        model=\"gpt-4o-mini\",\n",
    "        messages=[\n",
    "            {\"role\": \"system\", \"content\": system_prompt},\n",
    "            {\"role\": \"user\", \"content\": prompt}\n",
    "        ],\n",
    "        temperature=0.7,\n",
    "        max_tokens=300\n",
    "    )\n",
    "\n",
    "    return response['choices'][0]['message']['content']"
   ]
  },
  {
   "cell_type": "code",
   "execution_count": 20,
   "metadata": {},
   "outputs": [],
   "source": [
    "# Define prompts\n",
    "angry_prompt = \"\"\"Write a summary for the following text you little stupid robot! \\\n",
    "The only summary you can give is by writing 2 or 3 sentences only. And you know what \\\n",
    "will happen if you write longer than that, you fool.\"\"\"\n",
    "\n",
    "impatient_prompt = \"\"\"Summarize this text NOW, and make it quick! I don't have all day. \\\n",
    "Keep it to 2-3 sentences max, or else!\"\"\"\n",
    "\n",
    "neutral_prompt = \"\"\"Provide a concise summary of the following text in 2-3 sentences.\"\"\"\n",
    "\n",
    "nice_prompt = \"\"\"Could you please kindly summarize the following text in 2-3 sentences?\"\"\"\n",
    "\n",
    "excited_prompt = \"\"\"Hey there! Would you be so awesome to summarize the following text in 2-3 sentences? \\\n",
    "I'd be super grateful, thank you so much!\"\"\"\n",
    "\n",
    "prompt = \"\"\"The text:\n",
    "\n",
    "{}\n",
    "\n",
    "End of text.\"\"\""
   ]
  },
  {
   "cell_type": "code",
   "execution_count": 21,
   "metadata": {},
   "outputs": [],
   "source": [
    "df = pd.read_csv(\"/Users/dell/Yoav/nlp_project/data/texts.csv\")"
   ]
  },
  {
   "cell_type": "code",
   "execution_count": 31,
   "metadata": {},
   "outputs": [],
   "source": [
    "df['smr_excited'] = df['text'].apply(lambda text: get_response(excited_prompt, prompt.format(text)))"
   ]
  },
  {
   "cell_type": "code",
   "execution_count": 33,
   "metadata": {},
   "outputs": [],
   "source": [
    "df.to_csv(\"/Users/dell/Yoav/nlp_project/data/texts.csv\", index=False)"
   ]
  },
  {
   "cell_type": "code",
   "execution_count": 32,
   "metadata": {},
   "outputs": [
    {
     "data": {
      "text/html": [
       "Text 0 summary:<br><br>Leonardo da Vinci (1452-1519) was a renowned Italian polymath of the High Renaissance, celebrated for his contributions as a painter, engineer, scientist, and more, with iconic works like the Mona Lisa and The Last Supper. His extensive notebooks reflect his wide-ranging interests in subjects such as anatomy and astronomy, showcasing his genius and empirical thinking. Despite creating many unfinished works and having few completed pieces attributed to him, Leonardo's legacy continues to influence art and science, and he is often regarded as the founder of the High Renaissance."
      ],
      "text/plain": [
       "<IPython.core.display.HTML object>"
      ]
     },
     "metadata": {},
     "output_type": "display_data"
    },
    {
     "name": "stdout",
     "output_type": "stream",
     "text": [
      "\n",
      "\n",
      "------------------------------------\n",
      "\n",
      "\n"
     ]
    },
    {
     "data": {
      "text/html": [
       "Text 1 summary:<br><br>Ludwig van Beethoven (1770-1827) was a highly influential German composer and pianist whose work marked the transition from the Classical to the Romantic era in Western music. Despite facing significant challenges, including progressive deafness, he produced many renowned compositions during his lifetime, including symphonies, chamber music, and his only opera, Fidelio. Beethoven's innovative contributions to music continued until his death at the age of 56, leaving a lasting legacy in the classical repertoire."
      ],
      "text/plain": [
       "<IPython.core.display.HTML object>"
      ]
     },
     "metadata": {},
     "output_type": "display_data"
    },
    {
     "name": "stdout",
     "output_type": "stream",
     "text": [
      "\n",
      "\n",
      "------------------------------------\n",
      "\n",
      "\n"
     ]
    },
    {
     "data": {
      "text/html": [
       "Text 2 summary:<br><br>Hamas leader Yahya Sinwar was reportedly killed by Israeli forces after a lengthy pursuit that began following Hamas's attack on Israel in October 2022. Israeli soldiers, while engaged in a firefight in southern Gaza, inadvertently discovered his body among the rubble the following day. Sinwar had evaded capture for over a year by hiding in a network of tunnels and using couriers for communication."
      ],
      "text/plain": [
       "<IPython.core.display.HTML object>"
      ]
     },
     "metadata": {},
     "output_type": "display_data"
    },
    {
     "name": "stdout",
     "output_type": "stream",
     "text": [
      "\n",
      "\n",
      "------------------------------------\n",
      "\n",
      "\n"
     ]
    },
    {
     "data": {
      "text/html": [
       "Text 3 summary:<br><br>\"Bad Romance\" is a popular electropop and dance-pop song by Lady Gaga from her 2009 EP, The Fame Monster. Written and produced by Gaga and RedOne, it explores themes of unhealthy romantic relationships and was well-received by critics, topping charts in over 20 countries and becoming one of the best-selling singles of all time. The accompanying music video was also highly acclaimed, winning multiple awards and featuring striking visuals and choreography."
      ],
      "text/plain": [
       "<IPython.core.display.HTML object>"
      ]
     },
     "metadata": {},
     "output_type": "display_data"
    },
    {
     "name": "stdout",
     "output_type": "stream",
     "text": [
      "\n",
      "\n",
      "------------------------------------\n",
      "\n",
      "\n"
     ]
    },
    {
     "data": {
      "text/html": [
       "Text 4 summary:<br><br>Atoms are the fundamental building blocks of chemical elements, consisting of a nucleus made of protons and neutrons, surrounded by electrons. The number of protons in an atom determines its element, while variations in neutrons create isotopes. Atoms interact through electromagnetic and nuclear forces, forming chemical bonds to create compounds, which is the foundation of chemistry."
      ],
      "text/plain": [
       "<IPython.core.display.HTML object>"
      ]
     },
     "metadata": {},
     "output_type": "display_data"
    },
    {
     "name": "stdout",
     "output_type": "stream",
     "text": [
      "\n",
      "\n",
      "------------------------------------\n",
      "\n",
      "\n"
     ]
    },
    {
     "data": {
      "text/html": [
       "Text 5 summary:<br><br>Joshua, a key figure in the Hebrew Bible, was one of the twelve spies sent by Moses to scout Canaan and later led the Israelite tribes in their conquest of the land after Moses' death, allocating territories to the tribes before dying at the age of 110. He is also respected in Islam as Yusha bin Nun, believed to be Moses' attendant and a leader of the faithful, with his story referenced in the Quran and hadith."
      ],
      "text/plain": [
       "<IPython.core.display.HTML object>"
      ]
     },
     "metadata": {},
     "output_type": "display_data"
    },
    {
     "name": "stdout",
     "output_type": "stream",
     "text": [
      "\n",
      "\n",
      "------------------------------------\n",
      "\n",
      "\n"
     ]
    },
    {
     "data": {
      "text/html": [
       "Text 6 summary:<br><br>Apple Inc. is a leading American technology company founded in 1976, known for its innovative consumer electronics, software, and services, including iconic products like the iPhone and iPad. After facing significant challenges in the 1990s, Apple rebounded under Steve Jobs and has since become the largest technology company by revenue, valued at over $3.2 trillion as of June 2024. Despite criticism regarding labor practices and ethics, Apple maintains a strong brand loyalty and is one of the most valuable brands globally."
      ],
      "text/plain": [
       "<IPython.core.display.HTML object>"
      ]
     },
     "metadata": {},
     "output_type": "display_data"
    },
    {
     "name": "stdout",
     "output_type": "stream",
     "text": [
      "\n",
      "\n",
      "------------------------------------\n",
      "\n",
      "\n"
     ]
    },
    {
     "data": {
      "text/html": [
       "Text 7 summary:<br><br>Tel Aviv, governed by Mayor Ron Huldai, is a significant global city known for its vibrant economy, ranking as the fourth top startup ecosystem and having the highest cost of living in the world. Founded in 1909, it has a rich history tied to Jewish immigration and was the founding capital of Israel in 1948. The city is also notable for its UNESCO World Heritage Site, the White City, which features a large collection of International Style architecture."
      ],
      "text/plain": [
       "<IPython.core.display.HTML object>"
      ]
     },
     "metadata": {},
     "output_type": "display_data"
    },
    {
     "name": "stdout",
     "output_type": "stream",
     "text": [
      "\n",
      "\n",
      "------------------------------------\n",
      "\n",
      "\n"
     ]
    },
    {
     "data": {
      "text/html": [
       "Text 8 summary:<br><br>The author expresses sympathy for girls facing the challenges of pregnancy, emphasizing that they should not be shamed for being pregnant or for choosing to have an abortion. Recognizing that both decisions can be valid and often necessary for teenagers, the writer calls for an end to the stigma surrounding teenage pregnancy."
      ],
      "text/plain": [
       "<IPython.core.display.HTML object>"
      ]
     },
     "metadata": {},
     "output_type": "display_data"
    },
    {
     "name": "stdout",
     "output_type": "stream",
     "text": [
      "\n",
      "\n",
      "------------------------------------\n",
      "\n",
      "\n"
     ]
    },
    {
     "data": {
      "text/html": [
       "Text 9 summary:<br><br>The author reflects on their fortunate upbringing in Dominica, emphasizing the support and belief in equality instilled by their parents. While acknowledging progress in gender equality, they highlight the ongoing systemic issues that disenfranchise women, resulting in significant economic costs globally. The text calls attention to the exceptional women leaders making strides in various sectors, yet underscores that they remain the exception rather than the norm, as many women continue to face barriers to opportunity and leadership."
      ],
      "text/plain": [
       "<IPython.core.display.HTML object>"
      ]
     },
     "metadata": {},
     "output_type": "display_data"
    },
    {
     "name": "stdout",
     "output_type": "stream",
     "text": [
      "\n",
      "\n",
      "------------------------------------\n",
      "\n",
      "\n"
     ]
    }
   ],
   "source": [
    "for i in range(df.shape[0]):\n",
    "    display(HTML(\"Text {} summary:\\n\\n{}\".format(i, df.iloc[i]['smr_excited']).replace('\\n', '<br>')))\n",
    "    print(\"\\n\\n------------------------------------\\n\\n\")"
   ]
  }
 ],
 "metadata": {
  "kernelspec": {
   "display_name": "Python 3",
   "language": "python",
   "name": "python3"
  },
  "language_info": {
   "codemirror_mode": {
    "name": "ipython",
    "version": 3
   },
   "file_extension": ".py",
   "mimetype": "text/x-python",
   "name": "python",
   "nbconvert_exporter": "python",
   "pygments_lexer": "ipython3",
   "version": "3.10.0"
  }
 },
 "nbformat": 4,
 "nbformat_minor": 2
}
